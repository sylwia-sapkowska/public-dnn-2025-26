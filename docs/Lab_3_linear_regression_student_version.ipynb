{
  "cells": [
    {
      "cell_type": "markdown",
      "metadata": {
        "id": "PRgO4mhuPAZG"
      },
      "source": [
        "<center><img src='https://drive.google.com/uc?id=1_utx_ZGclmCwNttSe40kYA6VHzNocdET' height=\"60\"></center>\n",
        "\n",
        "AI TECH - Akademia Innowacyjnych Zastosowań Technologii Cyfrowych. Programu Operacyjnego Polska Cyfrowa na lata 2014-2020\n",
        "<hr>\n",
        "\n",
        "<center><img src='https://drive.google.com/uc?id=1BXZ0u3562N_MqCLcekI-Ens77Kk4LpPm'></center>\n",
        "\n",
        "<center>\n",
        "Projekt współfinansowany ze środków Unii Europejskiej w ramach Europejskiego Funduszu Rozwoju Regionalnego\n",
        "Program Operacyjny Polska Cyfrowa na lata 2014-2020,\n",
        "Oś Priorytetowa nr 3 \"Cyfrowe kompetencje społeczeństwa\" Działanie  nr 3.2 \"Innowacyjne rozwiązania na rzecz aktywizacji cyfrowej\"\n",
        "Tytuł projektu:  „Akademia Innowacyjnych Zastosowań Technologii Cyfrowych (AI Tech)”\n",
        "    </center>\n",
        "\n"
      ]
    },
    {
      "cell_type": "markdown",
      "metadata": {
        "id": "s47n23ty7ss5"
      },
      "source": [
        "# Simple linear regression\n",
        "\n",
        "In this exercise you will train a linear regression model via gradient descent in the simplest scenario, i.e. recreating an affine function.\n",
        "\n",
        "The setup is as follows:\n",
        "* we are given a set of pairs $(x, y)$, where $x$ represents the feature, and $y$ is the target,\n",
        "* our hypothesis is $h(x) = ax + b$,\n",
        "* we will use the dataset consisting of set of pairs to figure out the right values for $a$ and $b$,\n",
        "* to do so we will optimize the loss function: $J(a,b) = \\frac{1}{n}\\sum_{i=1}^n (y_i - h(x_i))^2$,\n",
        "* with the loss function in hand we can improve our guesses iteratively:\n",
        "    * $ a^{t+1} = a^t - \\text{step size} \\cdot \\frac{\\partial J(a,b)}{\\partial a}$,\n",
        "    * $ b^{t+1} = b^t - \\text{step size} \\cdot \\frac{\\partial J(a,b)}{\\partial b}$,\n",
        "* we can end the process after some predefined number of epochs (or when the changes are no longer meaningful).\n",
        "\n",
        "Let's start with creating the dataset."
      ]
    },
    {
      "cell_type": "code",
      "execution_count": 1,
      "metadata": {
        "id": "hOm-6OMd7ss7"
      },
      "outputs": [],
      "source": [
        "import random\n",
        "\n",
        "_a = 0.3\n",
        "_b = 0.5\n",
        "\n",
        "f = lambda x: _a * x + _b # ground truth\n",
        "g = lambda x: f(x) + random.gauss(0, 0.02) # a noisy version of f"
      ]
    },
    {
      "cell_type": "code",
      "execution_count": 2,
      "metadata": {
        "id": "2EQLIz_Y7stB"
      },
      "outputs": [],
      "source": [
        "n = 50 # number of examples\n",
        "\n",
        "xs = [random.random() for _ in range(n)] # features\n",
        "ys = list(map(g, xs)) # targets\n",
        "\n",
        "ts = list(map(f, xs)) # we don't get to see this"
      ]
    },
    {
      "cell_type": "markdown",
      "metadata": {
        "id": "oyIWYrek7stF"
      },
      "source": [
        "Our goal is to recreate $f$. However, as reality can be harsh (and usually is) we only get to observe $g$. We observe it as a list of pairs $(x,y) \\in \\text{zip}(xs, ys)$.\n",
        "\n",
        "Let's plot the data. We will use the `plotly` library to make the plots interactive, which allows for easier inspection of data."
      ]
    },
    {
      "cell_type": "code",
      "execution_count": 3,
      "metadata": {
        "id": "zsP2nL2NPQYX"
      },
      "outputs": [],
      "source": [
        "# !pip install --upgrade git+https://github.com/plotly/plotly.py.git"
      ]
    },
    {
      "cell_type": "code",
      "execution_count": 12,
      "metadata": {
        "id": "UBp8TaLJ7stH"
      },
      "outputs": [
        {
          "data": {
            "application/vnd.plotly.v1+json": {
              "config": {
                "plotlyServerURL": "https://plot.ly"
              },
              "data": [
                {
                  "hovertemplate": "x=%{x}<br>y=%{y}<extra></extra>",
                  "legendgroup": "",
                  "marker": {
                    "color": "#636efa",
                    "symbol": "circle"
                  },
                  "mode": "markers",
                  "name": "",
                  "orientation": "v",
                  "showlegend": false,
                  "type": "scatter",
                  "x": {
                    "bdata": "vHOtqnXI2T+uORZs3GnjP/j9SyCPm90/PHiFeRoC1D9gj9+vGx3OP8blQ3l1lOI/AQ5gbGP47D+YqifteLm2P1Q2skVcHMg/2NozPDfZxD9AkreAGwroP0nXEH5nyeU/hGRYhPG34j8tPAyXUCHtP+oli6c2Nek/IHvPuAOcrT8wAQcLqXfWP6he2n21KLQ/TUqq3pvA6z9pZ1hX7ljmP+C+vi1YTLc/bPhyPbTnxj9yyVCCJe7qPwpb/V0i9+Y/mu5404fT2z/0riF/npvZPzmUTA+LKeI/MQeBxL294j9c+dv1BwfaPw9TAzRhtuA/NJEGu0YFwD/o39Z7m7zgP5JaaI2g39I/6LovbVAKsT94wiXkBEW7P5hHXBY6E8E/+ODJWFNW6D8i/Dfm8nDnP3wodsigtd0/vI/ElmyH5D8c3nxiuHPvP9jia/ajScc/pCvfmFaD0D9Q+KmWMtrrP7FaSHhByek/iDS4FET2vj+Wyjmz2U/gP477RrqM1tU/LFsKqIfL7j+TCS7DycHrPw==",
                    "dtype": "f8"
                  },
                  "xaxis": "x",
                  "y": {
                    "bdata": "Kn2kSfyD5D+ONPSNY1fmP0Ydpq41ZOQ/cD15uBQ64z8VCutRm9DhP3PEYZpIxeQ/2lI2px8D6T9roXUYs0ThP0L7ULNO9OE/XnNQ6nl14j/DUzZ4cufnP3poXHJbGuY/UoukDnHG5T/GVHax0kznPyZX456utOc/3x/+cBBI4D+g91EtfjDjPygsAp+gJeA/LV2nC5FL6D/3VvpBLULmP1KGz7XFh+A/SOLTZkVE4T8ksUYiucTmP/43JJLIq+Y/iOB7fWpm5D/HTTNekaPjPzgLB63V1OU/f6b3dvH75D9tOQHp5s7jP4hX1S4JleQ/3C1QztsM4T+U2p27DODkP0v25Ikv/+E/hCEMulAL4T9SFIcZvlfgP1ElRBK+5eE/47oGpar55z+SGgR6RUXmP3k83quC0+Q/2e8hVA7s5j+p+AOA9ZPqP3/eDNw4rOE/K9/DlwZY4z/Spw+OC1npPzzJdbe7ruc/wmypL8eZ4D8ULR94PKrkPwzzJ2a0YuM/mHcRujY26T9v7jGLh0TnPw==",
                    "dtype": "f8"
                  },
                  "yaxis": "y"
                }
              ],
              "layout": {
                "legend": {
                  "tracegroupgap": 0
                },
                "margin": {
                  "t": 60
                },
                "template": {
                  "data": {
                    "bar": [
                      {
                        "error_x": {
                          "color": "#2a3f5f"
                        },
                        "error_y": {
                          "color": "#2a3f5f"
                        },
                        "marker": {
                          "line": {
                            "color": "#E5ECF6",
                            "width": 0.5
                          },
                          "pattern": {
                            "fillmode": "overlay",
                            "size": 10,
                            "solidity": 0.2
                          }
                        },
                        "type": "bar"
                      }
                    ],
                    "barpolar": [
                      {
                        "marker": {
                          "line": {
                            "color": "#E5ECF6",
                            "width": 0.5
                          },
                          "pattern": {
                            "fillmode": "overlay",
                            "size": 10,
                            "solidity": 0.2
                          }
                        },
                        "type": "barpolar"
                      }
                    ],
                    "carpet": [
                      {
                        "aaxis": {
                          "endlinecolor": "#2a3f5f",
                          "gridcolor": "white",
                          "linecolor": "white",
                          "minorgridcolor": "white",
                          "startlinecolor": "#2a3f5f"
                        },
                        "baxis": {
                          "endlinecolor": "#2a3f5f",
                          "gridcolor": "white",
                          "linecolor": "white",
                          "minorgridcolor": "white",
                          "startlinecolor": "#2a3f5f"
                        },
                        "type": "carpet"
                      }
                    ],
                    "choropleth": [
                      {
                        "colorbar": {
                          "outlinewidth": 0,
                          "ticks": ""
                        },
                        "type": "choropleth"
                      }
                    ],
                    "contour": [
                      {
                        "colorbar": {
                          "outlinewidth": 0,
                          "ticks": ""
                        },
                        "colorscale": [
                          [
                            0,
                            "#0d0887"
                          ],
                          [
                            0.1111111111111111,
                            "#46039f"
                          ],
                          [
                            0.2222222222222222,
                            "#7201a8"
                          ],
                          [
                            0.3333333333333333,
                            "#9c179e"
                          ],
                          [
                            0.4444444444444444,
                            "#bd3786"
                          ],
                          [
                            0.5555555555555556,
                            "#d8576b"
                          ],
                          [
                            0.6666666666666666,
                            "#ed7953"
                          ],
                          [
                            0.7777777777777778,
                            "#fb9f3a"
                          ],
                          [
                            0.8888888888888888,
                            "#fdca26"
                          ],
                          [
                            1,
                            "#f0f921"
                          ]
                        ],
                        "type": "contour"
                      }
                    ],
                    "contourcarpet": [
                      {
                        "colorbar": {
                          "outlinewidth": 0,
                          "ticks": ""
                        },
                        "type": "contourcarpet"
                      }
                    ],
                    "heatmap": [
                      {
                        "colorbar": {
                          "outlinewidth": 0,
                          "ticks": ""
                        },
                        "colorscale": [
                          [
                            0,
                            "#0d0887"
                          ],
                          [
                            0.1111111111111111,
                            "#46039f"
                          ],
                          [
                            0.2222222222222222,
                            "#7201a8"
                          ],
                          [
                            0.3333333333333333,
                            "#9c179e"
                          ],
                          [
                            0.4444444444444444,
                            "#bd3786"
                          ],
                          [
                            0.5555555555555556,
                            "#d8576b"
                          ],
                          [
                            0.6666666666666666,
                            "#ed7953"
                          ],
                          [
                            0.7777777777777778,
                            "#fb9f3a"
                          ],
                          [
                            0.8888888888888888,
                            "#fdca26"
                          ],
                          [
                            1,
                            "#f0f921"
                          ]
                        ],
                        "type": "heatmap"
                      }
                    ],
                    "histogram": [
                      {
                        "marker": {
                          "pattern": {
                            "fillmode": "overlay",
                            "size": 10,
                            "solidity": 0.2
                          }
                        },
                        "type": "histogram"
                      }
                    ],
                    "histogram2d": [
                      {
                        "colorbar": {
                          "outlinewidth": 0,
                          "ticks": ""
                        },
                        "colorscale": [
                          [
                            0,
                            "#0d0887"
                          ],
                          [
                            0.1111111111111111,
                            "#46039f"
                          ],
                          [
                            0.2222222222222222,
                            "#7201a8"
                          ],
                          [
                            0.3333333333333333,
                            "#9c179e"
                          ],
                          [
                            0.4444444444444444,
                            "#bd3786"
                          ],
                          [
                            0.5555555555555556,
                            "#d8576b"
                          ],
                          [
                            0.6666666666666666,
                            "#ed7953"
                          ],
                          [
                            0.7777777777777778,
                            "#fb9f3a"
                          ],
                          [
                            0.8888888888888888,
                            "#fdca26"
                          ],
                          [
                            1,
                            "#f0f921"
                          ]
                        ],
                        "type": "histogram2d"
                      }
                    ],
                    "histogram2dcontour": [
                      {
                        "colorbar": {
                          "outlinewidth": 0,
                          "ticks": ""
                        },
                        "colorscale": [
                          [
                            0,
                            "#0d0887"
                          ],
                          [
                            0.1111111111111111,
                            "#46039f"
                          ],
                          [
                            0.2222222222222222,
                            "#7201a8"
                          ],
                          [
                            0.3333333333333333,
                            "#9c179e"
                          ],
                          [
                            0.4444444444444444,
                            "#bd3786"
                          ],
                          [
                            0.5555555555555556,
                            "#d8576b"
                          ],
                          [
                            0.6666666666666666,
                            "#ed7953"
                          ],
                          [
                            0.7777777777777778,
                            "#fb9f3a"
                          ],
                          [
                            0.8888888888888888,
                            "#fdca26"
                          ],
                          [
                            1,
                            "#f0f921"
                          ]
                        ],
                        "type": "histogram2dcontour"
                      }
                    ],
                    "mesh3d": [
                      {
                        "colorbar": {
                          "outlinewidth": 0,
                          "ticks": ""
                        },
                        "type": "mesh3d"
                      }
                    ],
                    "parcoords": [
                      {
                        "line": {
                          "colorbar": {
                            "outlinewidth": 0,
                            "ticks": ""
                          }
                        },
                        "type": "parcoords"
                      }
                    ],
                    "pie": [
                      {
                        "automargin": true,
                        "type": "pie"
                      }
                    ],
                    "scatter": [
                      {
                        "fillpattern": {
                          "fillmode": "overlay",
                          "size": 10,
                          "solidity": 0.2
                        },
                        "type": "scatter"
                      }
                    ],
                    "scatter3d": [
                      {
                        "line": {
                          "colorbar": {
                            "outlinewidth": 0,
                            "ticks": ""
                          }
                        },
                        "marker": {
                          "colorbar": {
                            "outlinewidth": 0,
                            "ticks": ""
                          }
                        },
                        "type": "scatter3d"
                      }
                    ],
                    "scattercarpet": [
                      {
                        "marker": {
                          "colorbar": {
                            "outlinewidth": 0,
                            "ticks": ""
                          }
                        },
                        "type": "scattercarpet"
                      }
                    ],
                    "scattergeo": [
                      {
                        "marker": {
                          "colorbar": {
                            "outlinewidth": 0,
                            "ticks": ""
                          }
                        },
                        "type": "scattergeo"
                      }
                    ],
                    "scattergl": [
                      {
                        "marker": {
                          "colorbar": {
                            "outlinewidth": 0,
                            "ticks": ""
                          }
                        },
                        "type": "scattergl"
                      }
                    ],
                    "scattermap": [
                      {
                        "marker": {
                          "colorbar": {
                            "outlinewidth": 0,
                            "ticks": ""
                          }
                        },
                        "type": "scattermap"
                      }
                    ],
                    "scattermapbox": [
                      {
                        "marker": {
                          "colorbar": {
                            "outlinewidth": 0,
                            "ticks": ""
                          }
                        },
                        "type": "scattermapbox"
                      }
                    ],
                    "scatterpolar": [
                      {
                        "marker": {
                          "colorbar": {
                            "outlinewidth": 0,
                            "ticks": ""
                          }
                        },
                        "type": "scatterpolar"
                      }
                    ],
                    "scatterpolargl": [
                      {
                        "marker": {
                          "colorbar": {
                            "outlinewidth": 0,
                            "ticks": ""
                          }
                        },
                        "type": "scatterpolargl"
                      }
                    ],
                    "scatterternary": [
                      {
                        "marker": {
                          "colorbar": {
                            "outlinewidth": 0,
                            "ticks": ""
                          }
                        },
                        "type": "scatterternary"
                      }
                    ],
                    "surface": [
                      {
                        "colorbar": {
                          "outlinewidth": 0,
                          "ticks": ""
                        },
                        "colorscale": [
                          [
                            0,
                            "#0d0887"
                          ],
                          [
                            0.1111111111111111,
                            "#46039f"
                          ],
                          [
                            0.2222222222222222,
                            "#7201a8"
                          ],
                          [
                            0.3333333333333333,
                            "#9c179e"
                          ],
                          [
                            0.4444444444444444,
                            "#bd3786"
                          ],
                          [
                            0.5555555555555556,
                            "#d8576b"
                          ],
                          [
                            0.6666666666666666,
                            "#ed7953"
                          ],
                          [
                            0.7777777777777778,
                            "#fb9f3a"
                          ],
                          [
                            0.8888888888888888,
                            "#fdca26"
                          ],
                          [
                            1,
                            "#f0f921"
                          ]
                        ],
                        "type": "surface"
                      }
                    ],
                    "table": [
                      {
                        "cells": {
                          "fill": {
                            "color": "#EBF0F8"
                          },
                          "line": {
                            "color": "white"
                          }
                        },
                        "header": {
                          "fill": {
                            "color": "#C8D4E3"
                          },
                          "line": {
                            "color": "white"
                          }
                        },
                        "type": "table"
                      }
                    ]
                  },
                  "layout": {
                    "annotationdefaults": {
                      "arrowcolor": "#2a3f5f",
                      "arrowhead": 0,
                      "arrowwidth": 1
                    },
                    "autotypenumbers": "strict",
                    "coloraxis": {
                      "colorbar": {
                        "outlinewidth": 0,
                        "ticks": ""
                      }
                    },
                    "colorscale": {
                      "diverging": [
                        [
                          0,
                          "#8e0152"
                        ],
                        [
                          0.1,
                          "#c51b7d"
                        ],
                        [
                          0.2,
                          "#de77ae"
                        ],
                        [
                          0.3,
                          "#f1b6da"
                        ],
                        [
                          0.4,
                          "#fde0ef"
                        ],
                        [
                          0.5,
                          "#f7f7f7"
                        ],
                        [
                          0.6,
                          "#e6f5d0"
                        ],
                        [
                          0.7,
                          "#b8e186"
                        ],
                        [
                          0.8,
                          "#7fbc41"
                        ],
                        [
                          0.9,
                          "#4d9221"
                        ],
                        [
                          1,
                          "#276419"
                        ]
                      ],
                      "sequential": [
                        [
                          0,
                          "#0d0887"
                        ],
                        [
                          0.1111111111111111,
                          "#46039f"
                        ],
                        [
                          0.2222222222222222,
                          "#7201a8"
                        ],
                        [
                          0.3333333333333333,
                          "#9c179e"
                        ],
                        [
                          0.4444444444444444,
                          "#bd3786"
                        ],
                        [
                          0.5555555555555556,
                          "#d8576b"
                        ],
                        [
                          0.6666666666666666,
                          "#ed7953"
                        ],
                        [
                          0.7777777777777778,
                          "#fb9f3a"
                        ],
                        [
                          0.8888888888888888,
                          "#fdca26"
                        ],
                        [
                          1,
                          "#f0f921"
                        ]
                      ],
                      "sequentialminus": [
                        [
                          0,
                          "#0d0887"
                        ],
                        [
                          0.1111111111111111,
                          "#46039f"
                        ],
                        [
                          0.2222222222222222,
                          "#7201a8"
                        ],
                        [
                          0.3333333333333333,
                          "#9c179e"
                        ],
                        [
                          0.4444444444444444,
                          "#bd3786"
                        ],
                        [
                          0.5555555555555556,
                          "#d8576b"
                        ],
                        [
                          0.6666666666666666,
                          "#ed7953"
                        ],
                        [
                          0.7777777777777778,
                          "#fb9f3a"
                        ],
                        [
                          0.8888888888888888,
                          "#fdca26"
                        ],
                        [
                          1,
                          "#f0f921"
                        ]
                      ]
                    },
                    "colorway": [
                      "#636efa",
                      "#EF553B",
                      "#00cc96",
                      "#ab63fa",
                      "#FFA15A",
                      "#19d3f3",
                      "#FF6692",
                      "#B6E880",
                      "#FF97FF",
                      "#FECB52"
                    ],
                    "font": {
                      "color": "#2a3f5f"
                    },
                    "geo": {
                      "bgcolor": "white",
                      "lakecolor": "white",
                      "landcolor": "#E5ECF6",
                      "showlakes": true,
                      "showland": true,
                      "subunitcolor": "white"
                    },
                    "hoverlabel": {
                      "align": "left"
                    },
                    "hovermode": "closest",
                    "mapbox": {
                      "style": "light"
                    },
                    "paper_bgcolor": "white",
                    "plot_bgcolor": "#E5ECF6",
                    "polar": {
                      "angularaxis": {
                        "gridcolor": "white",
                        "linecolor": "white",
                        "ticks": ""
                      },
                      "bgcolor": "#E5ECF6",
                      "radialaxis": {
                        "gridcolor": "white",
                        "linecolor": "white",
                        "ticks": ""
                      }
                    },
                    "scene": {
                      "xaxis": {
                        "backgroundcolor": "#E5ECF6",
                        "gridcolor": "white",
                        "gridwidth": 2,
                        "linecolor": "white",
                        "showbackground": true,
                        "ticks": "",
                        "zerolinecolor": "white"
                      },
                      "yaxis": {
                        "backgroundcolor": "#E5ECF6",
                        "gridcolor": "white",
                        "gridwidth": 2,
                        "linecolor": "white",
                        "showbackground": true,
                        "ticks": "",
                        "zerolinecolor": "white"
                      },
                      "zaxis": {
                        "backgroundcolor": "#E5ECF6",
                        "gridcolor": "white",
                        "gridwidth": 2,
                        "linecolor": "white",
                        "showbackground": true,
                        "ticks": "",
                        "zerolinecolor": "white"
                      }
                    },
                    "shapedefaults": {
                      "line": {
                        "color": "#2a3f5f"
                      }
                    },
                    "ternary": {
                      "aaxis": {
                        "gridcolor": "white",
                        "linecolor": "white",
                        "ticks": ""
                      },
                      "baxis": {
                        "gridcolor": "white",
                        "linecolor": "white",
                        "ticks": ""
                      },
                      "bgcolor": "#E5ECF6",
                      "caxis": {
                        "gridcolor": "white",
                        "linecolor": "white",
                        "ticks": ""
                      }
                    },
                    "title": {
                      "x": 0.05
                    },
                    "xaxis": {
                      "automargin": true,
                      "gridcolor": "white",
                      "linecolor": "white",
                      "ticks": "",
                      "title": {
                        "standoff": 15
                      },
                      "zerolinecolor": "white",
                      "zerolinewidth": 2
                    },
                    "yaxis": {
                      "automargin": true,
                      "gridcolor": "white",
                      "linecolor": "white",
                      "ticks": "",
                      "title": {
                        "standoff": 15
                      },
                      "zerolinecolor": "white",
                      "zerolinewidth": 2
                    }
                  }
                },
                "xaxis": {
                  "anchor": "y",
                  "domain": [
                    0,
                    1
                  ],
                  "title": {
                    "text": "x"
                  }
                },
                "yaxis": {
                  "anchor": "x",
                  "domain": [
                    0,
                    1
                  ],
                  "title": {
                    "text": "y"
                  }
                }
              }
            }
          },
          "metadata": {},
          "output_type": "display_data"
        }
      ],
      "source": [
        "import plotly.graph_objects as go\n",
        "import plotly.express as px\n",
        "\n",
        "fig = px.scatter(x=xs, y=ys)\n",
        "fig.show()"
      ]
    },
    {
      "cell_type": "code",
      "execution_count": 13,
      "metadata": {
        "id": "nRqybzzs7stM"
      },
      "outputs": [],
      "source": [
        "import numpy as np\n",
        "\n",
        "def mse_loss(ys, ps):\n",
        "    assert len(ys) == len(ps)\n",
        "\n",
        "    ### YOUR CODE BEGINS HERE ###\n",
        "    return np.mean((np.array(ys) - np.array(ps)) ** 2)\n",
        "    ### YOUR CODE ENDS HERE ###"
      ]
    },
    {
      "cell_type": "markdown",
      "metadata": {
        "id": "ofYLNJM87stQ"
      },
      "source": [
        "Please take a while to (roughly) guess the output before executing the cell below."
      ]
    },
    {
      "cell_type": "code",
      "execution_count": 6,
      "metadata": {
        "id": "CMavAdN77stR"
      },
      "outputs": [
        {
          "data": {
            "text/plain": [
              "np.float64(0.0003344443111784426)"
            ]
          },
          "execution_count": 6,
          "metadata": {},
          "output_type": "execute_result"
        }
      ],
      "source": [
        "mse_loss(ys, ts)"
      ]
    },
    {
      "cell_type": "markdown",
      "metadata": {
        "id": "RTRbX1tm7stV"
      },
      "source": [
        "Let's now implement the algorithm\n",
        "\n",
        "Hint: To make sure that you correctly compute the gradients, you can compute them numerically and compare the results."
      ]
    },
    {
      "cell_type": "code",
      "execution_count": 7,
      "metadata": {
        "id": "ChxX0fEL7stW"
      },
      "outputs": [
        {
          "name": "stdout",
          "output_type": "stream",
          "text": [
            "Iter:   0 Loss: 0.02686049 a:  0.33571, b:  0.64385\n",
            "Iter:   1 Loss: 0.00205767 a:  0.25408, b:  0.48130\n",
            "Iter:   2 Loss: 0.00049396 a:  0.27683, b:  0.52082\n",
            "Iter:   3 Loss: 0.00038924 a:  0.27329, b:  0.50980\n",
            "Iter:   4 Loss: 0.00037688 a:  0.27620, b:  0.51152\n",
            "Iter:   5 Loss: 0.00037103 a:  0.27736, b:  0.51011\n",
            "Iter:   6 Loss: 0.00036622 a:  0.27884, b:  0.50955\n",
            "Iter:   7 Loss: 0.00036203 a:  0.28013, b:  0.50883\n",
            "Iter:   8 Loss: 0.00035835 a:  0.28136, b:  0.50821\n",
            "Iter:   9 Loss: 0.00035514 a:  0.28250, b:  0.50761\n",
            "Iter:  10 Loss: 0.00035232 a:  0.28357, b:  0.50706\n",
            "Iter:  11 Loss: 0.00034985 a:  0.28458, b:  0.50654\n",
            "Iter:  12 Loss: 0.00034769 a:  0.28552, b:  0.50605\n",
            "Iter:  13 Loss: 0.00034579 a:  0.28639, b:  0.50560\n",
            "Iter:  14 Loss: 0.00034413 a:  0.28722, b:  0.50517\n",
            "Iter:  15 Loss: 0.00034268 a:  0.28799, b:  0.50478\n",
            "Iter:  16 Loss: 0.00034140 a:  0.28871, b:  0.50440\n",
            "Iter:  17 Loss: 0.00034029 a:  0.28938, b:  0.50405\n",
            "Iter:  18 Loss: 0.00033931 a:  0.29001, b:  0.50373\n",
            "Iter:  19 Loss: 0.00033845 a:  0.29060, b:  0.50342\n",
            "Iter:  20 Loss: 0.00033770 a:  0.29116, b:  0.50314\n",
            "Iter:  21 Loss: 0.00033705 a:  0.29167, b:  0.50287\n",
            "Iter:  22 Loss: 0.00033647 a:  0.29216, b:  0.50262\n",
            "Iter:  23 Loss: 0.00033597 a:  0.29261, b:  0.50238\n",
            "Iter:  24 Loss: 0.00033552 a:  0.29304, b:  0.50216\n",
            "Iter:  25 Loss: 0.00033514 a:  0.29343, b:  0.50196\n",
            "Iter:  26 Loss: 0.00033480 a:  0.29381, b:  0.50177\n",
            "Iter:  27 Loss: 0.00033450 a:  0.29415, b:  0.50159\n",
            "Iter:  28 Loss: 0.00033424 a:  0.29448, b:  0.50142\n",
            "Iter:  29 Loss: 0.00033401 a:  0.29478, b:  0.50126\n",
            "Iter:  30 Loss: 0.00033381 a:  0.29507, b:  0.50111\n",
            "Iter:  31 Loss: 0.00033364 a:  0.29534, b:  0.50097\n",
            "Iter:  32 Loss: 0.00033348 a:  0.29559, b:  0.50085\n",
            "Iter:  33 Loss: 0.00033335 a:  0.29582, b:  0.50072\n",
            "Iter:  34 Loss: 0.00033323 a:  0.29604, b:  0.50061\n",
            "Iter:  35 Loss: 0.00033313 a:  0.29624, b:  0.50050\n",
            "Iter:  36 Loss: 0.00033304 a:  0.29644, b:  0.50041\n",
            "Iter:  37 Loss: 0.00033296 a:  0.29661, b:  0.50031\n",
            "Iter:  38 Loss: 0.00033289 a:  0.29678, b:  0.50023\n",
            "Iter:  39 Loss: 0.00033283 a:  0.29694, b:  0.50014\n"
          ]
        }
      ],
      "source": [
        "a = 0. # our initial guess for _a\n",
        "b = 0. # our initial guess for _b\n",
        "lr = 0.5 # step size\n",
        "\n",
        "n_epochs = 40 # number of passes over the training data\n",
        "\n",
        "def predict(a, b, xs=xs):\n",
        "    return [a * x + b for x in xs]\n",
        "\n",
        "def evaluate(a, b, xs=xs, ys=ys):\n",
        "    return mse_loss(ys, predict(a, b, xs))\n",
        "\n",
        "losses = [evaluate(a, b)]\n",
        "\n",
        "for i in range(n_epochs):\n",
        "    #############################\n",
        "    # TODO: Fill in the details #\n",
        "    #############################\n",
        "    ### YOUR CODE BEGINS HERE ###\n",
        "    n = len(xs)\n",
        "    preds = predict(a, b, xs)\n",
        "    dJ_da = (2/n) * sum((ys[j] - preds[j]) * xs[j] for j in range(n))\n",
        "    dJ_db = (2/n) * sum(ys[j] - preds[j] for j in range(n))\n",
        "    a += lr * dJ_da\n",
        "    b += lr * dJ_db\n",
        "    ### YOUR CODE ENDS HERE ###\n",
        "\n",
        "    loss = evaluate(a, b)\n",
        "    losses.append(loss)\n",
        "\n",
        "    print(f'Iter: {i:>3} Loss: {loss:8.8f} a: {a:8.5f}, b: {b:8.5f}')"
      ]
    },
    {
      "cell_type": "code",
      "execution_count": 8,
      "metadata": {
        "id": "pdR0279A7stZ"
      },
      "outputs": [
        {
          "data": {
            "application/vnd.plotly.v1+json": {
              "config": {
                "plotlyServerURL": "https://plot.ly"
              },
              "data": [
                {
                  "hovertemplate": "x=%{x}<br>loss=%{y}<extra></extra>",
                  "legendgroup": "",
                  "line": {
                    "color": "#636efa",
                    "dash": "solid"
                  },
                  "marker": {
                    "symbol": "circle"
                  },
                  "mode": "lines",
                  "name": "",
                  "orientation": "v",
                  "showlegend": false,
                  "type": "scatter",
                  "x": {
                    "bdata": "AAECAwQFBgcICQoLDA0ODxAREhMUFRYXGBkaGxwdHh8gISIjJCUmJyg=",
                    "dtype": "i1"
                  },
                  "xaxis": "x",
                  "y": {
                    "bdata": "rCvzuK8C2z98DerHUIGbPzjXNbRA22A/RbEBDpsvQD8oeH3IUYI5P5Hzmej1sjg/Nqs469xQOD+0gHMxKwA4P8HE/ZDOuTc/ADf9NTB8Nz8A6oWzNUY3P+0SvkPsFjc/9m3tg3/tNj/N6EJqNck2P06fS/1qqTY//Ka4d5GNNj9YqSzHK3U2P5uFilrMXzY/s/nlNRNNNj/9OHRDrDw2P5KM7NlNLjY/fBq5cbchNj8TLSqDsBY2P/R/logHDTY/hHD0H5EENj+MRQVIJ/01P/qTp7Wo9jU/bz9SPvjwNT/9mBhV/Os1PyVf65ee5zU/pEwTa8vjNT9FxiGhceA1P1wvzC2C3TU/SnFX4u/aNT+lN2Qyr9g1P3YAEgC21jU/ihaQbvvUNT94a1C6d9M1P22SKRYk0jU/OkXLjPrQNT/jRvzl9c81Pw==",
                    "dtype": "f8"
                  },
                  "yaxis": "y"
                }
              ],
              "layout": {
                "legend": {
                  "tracegroupgap": 0
                },
                "margin": {
                  "t": 60
                },
                "template": {
                  "data": {
                    "bar": [
                      {
                        "error_x": {
                          "color": "#2a3f5f"
                        },
                        "error_y": {
                          "color": "#2a3f5f"
                        },
                        "marker": {
                          "line": {
                            "color": "#E5ECF6",
                            "width": 0.5
                          },
                          "pattern": {
                            "fillmode": "overlay",
                            "size": 10,
                            "solidity": 0.2
                          }
                        },
                        "type": "bar"
                      }
                    ],
                    "barpolar": [
                      {
                        "marker": {
                          "line": {
                            "color": "#E5ECF6",
                            "width": 0.5
                          },
                          "pattern": {
                            "fillmode": "overlay",
                            "size": 10,
                            "solidity": 0.2
                          }
                        },
                        "type": "barpolar"
                      }
                    ],
                    "carpet": [
                      {
                        "aaxis": {
                          "endlinecolor": "#2a3f5f",
                          "gridcolor": "white",
                          "linecolor": "white",
                          "minorgridcolor": "white",
                          "startlinecolor": "#2a3f5f"
                        },
                        "baxis": {
                          "endlinecolor": "#2a3f5f",
                          "gridcolor": "white",
                          "linecolor": "white",
                          "minorgridcolor": "white",
                          "startlinecolor": "#2a3f5f"
                        },
                        "type": "carpet"
                      }
                    ],
                    "choropleth": [
                      {
                        "colorbar": {
                          "outlinewidth": 0,
                          "ticks": ""
                        },
                        "type": "choropleth"
                      }
                    ],
                    "contour": [
                      {
                        "colorbar": {
                          "outlinewidth": 0,
                          "ticks": ""
                        },
                        "colorscale": [
                          [
                            0,
                            "#0d0887"
                          ],
                          [
                            0.1111111111111111,
                            "#46039f"
                          ],
                          [
                            0.2222222222222222,
                            "#7201a8"
                          ],
                          [
                            0.3333333333333333,
                            "#9c179e"
                          ],
                          [
                            0.4444444444444444,
                            "#bd3786"
                          ],
                          [
                            0.5555555555555556,
                            "#d8576b"
                          ],
                          [
                            0.6666666666666666,
                            "#ed7953"
                          ],
                          [
                            0.7777777777777778,
                            "#fb9f3a"
                          ],
                          [
                            0.8888888888888888,
                            "#fdca26"
                          ],
                          [
                            1,
                            "#f0f921"
                          ]
                        ],
                        "type": "contour"
                      }
                    ],
                    "contourcarpet": [
                      {
                        "colorbar": {
                          "outlinewidth": 0,
                          "ticks": ""
                        },
                        "type": "contourcarpet"
                      }
                    ],
                    "heatmap": [
                      {
                        "colorbar": {
                          "outlinewidth": 0,
                          "ticks": ""
                        },
                        "colorscale": [
                          [
                            0,
                            "#0d0887"
                          ],
                          [
                            0.1111111111111111,
                            "#46039f"
                          ],
                          [
                            0.2222222222222222,
                            "#7201a8"
                          ],
                          [
                            0.3333333333333333,
                            "#9c179e"
                          ],
                          [
                            0.4444444444444444,
                            "#bd3786"
                          ],
                          [
                            0.5555555555555556,
                            "#d8576b"
                          ],
                          [
                            0.6666666666666666,
                            "#ed7953"
                          ],
                          [
                            0.7777777777777778,
                            "#fb9f3a"
                          ],
                          [
                            0.8888888888888888,
                            "#fdca26"
                          ],
                          [
                            1,
                            "#f0f921"
                          ]
                        ],
                        "type": "heatmap"
                      }
                    ],
                    "histogram": [
                      {
                        "marker": {
                          "pattern": {
                            "fillmode": "overlay",
                            "size": 10,
                            "solidity": 0.2
                          }
                        },
                        "type": "histogram"
                      }
                    ],
                    "histogram2d": [
                      {
                        "colorbar": {
                          "outlinewidth": 0,
                          "ticks": ""
                        },
                        "colorscale": [
                          [
                            0,
                            "#0d0887"
                          ],
                          [
                            0.1111111111111111,
                            "#46039f"
                          ],
                          [
                            0.2222222222222222,
                            "#7201a8"
                          ],
                          [
                            0.3333333333333333,
                            "#9c179e"
                          ],
                          [
                            0.4444444444444444,
                            "#bd3786"
                          ],
                          [
                            0.5555555555555556,
                            "#d8576b"
                          ],
                          [
                            0.6666666666666666,
                            "#ed7953"
                          ],
                          [
                            0.7777777777777778,
                            "#fb9f3a"
                          ],
                          [
                            0.8888888888888888,
                            "#fdca26"
                          ],
                          [
                            1,
                            "#f0f921"
                          ]
                        ],
                        "type": "histogram2d"
                      }
                    ],
                    "histogram2dcontour": [
                      {
                        "colorbar": {
                          "outlinewidth": 0,
                          "ticks": ""
                        },
                        "colorscale": [
                          [
                            0,
                            "#0d0887"
                          ],
                          [
                            0.1111111111111111,
                            "#46039f"
                          ],
                          [
                            0.2222222222222222,
                            "#7201a8"
                          ],
                          [
                            0.3333333333333333,
                            "#9c179e"
                          ],
                          [
                            0.4444444444444444,
                            "#bd3786"
                          ],
                          [
                            0.5555555555555556,
                            "#d8576b"
                          ],
                          [
                            0.6666666666666666,
                            "#ed7953"
                          ],
                          [
                            0.7777777777777778,
                            "#fb9f3a"
                          ],
                          [
                            0.8888888888888888,
                            "#fdca26"
                          ],
                          [
                            1,
                            "#f0f921"
                          ]
                        ],
                        "type": "histogram2dcontour"
                      }
                    ],
                    "mesh3d": [
                      {
                        "colorbar": {
                          "outlinewidth": 0,
                          "ticks": ""
                        },
                        "type": "mesh3d"
                      }
                    ],
                    "parcoords": [
                      {
                        "line": {
                          "colorbar": {
                            "outlinewidth": 0,
                            "ticks": ""
                          }
                        },
                        "type": "parcoords"
                      }
                    ],
                    "pie": [
                      {
                        "automargin": true,
                        "type": "pie"
                      }
                    ],
                    "scatter": [
                      {
                        "fillpattern": {
                          "fillmode": "overlay",
                          "size": 10,
                          "solidity": 0.2
                        },
                        "type": "scatter"
                      }
                    ],
                    "scatter3d": [
                      {
                        "line": {
                          "colorbar": {
                            "outlinewidth": 0,
                            "ticks": ""
                          }
                        },
                        "marker": {
                          "colorbar": {
                            "outlinewidth": 0,
                            "ticks": ""
                          }
                        },
                        "type": "scatter3d"
                      }
                    ],
                    "scattercarpet": [
                      {
                        "marker": {
                          "colorbar": {
                            "outlinewidth": 0,
                            "ticks": ""
                          }
                        },
                        "type": "scattercarpet"
                      }
                    ],
                    "scattergeo": [
                      {
                        "marker": {
                          "colorbar": {
                            "outlinewidth": 0,
                            "ticks": ""
                          }
                        },
                        "type": "scattergeo"
                      }
                    ],
                    "scattergl": [
                      {
                        "marker": {
                          "colorbar": {
                            "outlinewidth": 0,
                            "ticks": ""
                          }
                        },
                        "type": "scattergl"
                      }
                    ],
                    "scattermap": [
                      {
                        "marker": {
                          "colorbar": {
                            "outlinewidth": 0,
                            "ticks": ""
                          }
                        },
                        "type": "scattermap"
                      }
                    ],
                    "scattermapbox": [
                      {
                        "marker": {
                          "colorbar": {
                            "outlinewidth": 0,
                            "ticks": ""
                          }
                        },
                        "type": "scattermapbox"
                      }
                    ],
                    "scatterpolar": [
                      {
                        "marker": {
                          "colorbar": {
                            "outlinewidth": 0,
                            "ticks": ""
                          }
                        },
                        "type": "scatterpolar"
                      }
                    ],
                    "scatterpolargl": [
                      {
                        "marker": {
                          "colorbar": {
                            "outlinewidth": 0,
                            "ticks": ""
                          }
                        },
                        "type": "scatterpolargl"
                      }
                    ],
                    "scatterternary": [
                      {
                        "marker": {
                          "colorbar": {
                            "outlinewidth": 0,
                            "ticks": ""
                          }
                        },
                        "type": "scatterternary"
                      }
                    ],
                    "surface": [
                      {
                        "colorbar": {
                          "outlinewidth": 0,
                          "ticks": ""
                        },
                        "colorscale": [
                          [
                            0,
                            "#0d0887"
                          ],
                          [
                            0.1111111111111111,
                            "#46039f"
                          ],
                          [
                            0.2222222222222222,
                            "#7201a8"
                          ],
                          [
                            0.3333333333333333,
                            "#9c179e"
                          ],
                          [
                            0.4444444444444444,
                            "#bd3786"
                          ],
                          [
                            0.5555555555555556,
                            "#d8576b"
                          ],
                          [
                            0.6666666666666666,
                            "#ed7953"
                          ],
                          [
                            0.7777777777777778,
                            "#fb9f3a"
                          ],
                          [
                            0.8888888888888888,
                            "#fdca26"
                          ],
                          [
                            1,
                            "#f0f921"
                          ]
                        ],
                        "type": "surface"
                      }
                    ],
                    "table": [
                      {
                        "cells": {
                          "fill": {
                            "color": "#EBF0F8"
                          },
                          "line": {
                            "color": "white"
                          }
                        },
                        "header": {
                          "fill": {
                            "color": "#C8D4E3"
                          },
                          "line": {
                            "color": "white"
                          }
                        },
                        "type": "table"
                      }
                    ]
                  },
                  "layout": {
                    "annotationdefaults": {
                      "arrowcolor": "#2a3f5f",
                      "arrowhead": 0,
                      "arrowwidth": 1
                    },
                    "autotypenumbers": "strict",
                    "coloraxis": {
                      "colorbar": {
                        "outlinewidth": 0,
                        "ticks": ""
                      }
                    },
                    "colorscale": {
                      "diverging": [
                        [
                          0,
                          "#8e0152"
                        ],
                        [
                          0.1,
                          "#c51b7d"
                        ],
                        [
                          0.2,
                          "#de77ae"
                        ],
                        [
                          0.3,
                          "#f1b6da"
                        ],
                        [
                          0.4,
                          "#fde0ef"
                        ],
                        [
                          0.5,
                          "#f7f7f7"
                        ],
                        [
                          0.6,
                          "#e6f5d0"
                        ],
                        [
                          0.7,
                          "#b8e186"
                        ],
                        [
                          0.8,
                          "#7fbc41"
                        ],
                        [
                          0.9,
                          "#4d9221"
                        ],
                        [
                          1,
                          "#276419"
                        ]
                      ],
                      "sequential": [
                        [
                          0,
                          "#0d0887"
                        ],
                        [
                          0.1111111111111111,
                          "#46039f"
                        ],
                        [
                          0.2222222222222222,
                          "#7201a8"
                        ],
                        [
                          0.3333333333333333,
                          "#9c179e"
                        ],
                        [
                          0.4444444444444444,
                          "#bd3786"
                        ],
                        [
                          0.5555555555555556,
                          "#d8576b"
                        ],
                        [
                          0.6666666666666666,
                          "#ed7953"
                        ],
                        [
                          0.7777777777777778,
                          "#fb9f3a"
                        ],
                        [
                          0.8888888888888888,
                          "#fdca26"
                        ],
                        [
                          1,
                          "#f0f921"
                        ]
                      ],
                      "sequentialminus": [
                        [
                          0,
                          "#0d0887"
                        ],
                        [
                          0.1111111111111111,
                          "#46039f"
                        ],
                        [
                          0.2222222222222222,
                          "#7201a8"
                        ],
                        [
                          0.3333333333333333,
                          "#9c179e"
                        ],
                        [
                          0.4444444444444444,
                          "#bd3786"
                        ],
                        [
                          0.5555555555555556,
                          "#d8576b"
                        ],
                        [
                          0.6666666666666666,
                          "#ed7953"
                        ],
                        [
                          0.7777777777777778,
                          "#fb9f3a"
                        ],
                        [
                          0.8888888888888888,
                          "#fdca26"
                        ],
                        [
                          1,
                          "#f0f921"
                        ]
                      ]
                    },
                    "colorway": [
                      "#636efa",
                      "#EF553B",
                      "#00cc96",
                      "#ab63fa",
                      "#FFA15A",
                      "#19d3f3",
                      "#FF6692",
                      "#B6E880",
                      "#FF97FF",
                      "#FECB52"
                    ],
                    "font": {
                      "color": "#2a3f5f"
                    },
                    "geo": {
                      "bgcolor": "white",
                      "lakecolor": "white",
                      "landcolor": "#E5ECF6",
                      "showlakes": true,
                      "showland": true,
                      "subunitcolor": "white"
                    },
                    "hoverlabel": {
                      "align": "left"
                    },
                    "hovermode": "closest",
                    "mapbox": {
                      "style": "light"
                    },
                    "paper_bgcolor": "white",
                    "plot_bgcolor": "#E5ECF6",
                    "polar": {
                      "angularaxis": {
                        "gridcolor": "white",
                        "linecolor": "white",
                        "ticks": ""
                      },
                      "bgcolor": "#E5ECF6",
                      "radialaxis": {
                        "gridcolor": "white",
                        "linecolor": "white",
                        "ticks": ""
                      }
                    },
                    "scene": {
                      "xaxis": {
                        "backgroundcolor": "#E5ECF6",
                        "gridcolor": "white",
                        "gridwidth": 2,
                        "linecolor": "white",
                        "showbackground": true,
                        "ticks": "",
                        "zerolinecolor": "white"
                      },
                      "yaxis": {
                        "backgroundcolor": "#E5ECF6",
                        "gridcolor": "white",
                        "gridwidth": 2,
                        "linecolor": "white",
                        "showbackground": true,
                        "ticks": "",
                        "zerolinecolor": "white"
                      },
                      "zaxis": {
                        "backgroundcolor": "#E5ECF6",
                        "gridcolor": "white",
                        "gridwidth": 2,
                        "linecolor": "white",
                        "showbackground": true,
                        "ticks": "",
                        "zerolinecolor": "white"
                      }
                    },
                    "shapedefaults": {
                      "line": {
                        "color": "#2a3f5f"
                      }
                    },
                    "ternary": {
                      "aaxis": {
                        "gridcolor": "white",
                        "linecolor": "white",
                        "ticks": ""
                      },
                      "baxis": {
                        "gridcolor": "white",
                        "linecolor": "white",
                        "ticks": ""
                      },
                      "bgcolor": "#E5ECF6",
                      "caxis": {
                        "gridcolor": "white",
                        "linecolor": "white",
                        "ticks": ""
                      }
                    },
                    "title": {
                      "x": 0.05
                    },
                    "xaxis": {
                      "automargin": true,
                      "gridcolor": "white",
                      "linecolor": "white",
                      "ticks": "",
                      "title": {
                        "standoff": 15
                      },
                      "zerolinecolor": "white",
                      "zerolinewidth": 2
                    },
                    "yaxis": {
                      "automargin": true,
                      "gridcolor": "white",
                      "linecolor": "white",
                      "ticks": "",
                      "title": {
                        "standoff": 15
                      },
                      "zerolinecolor": "white",
                      "zerolinewidth": 2
                    }
                  }
                },
                "xaxis": {
                  "anchor": "y",
                  "domain": [
                    0,
                    1
                  ],
                  "title": {
                    "text": "x"
                  }
                },
                "yaxis": {
                  "anchor": "x",
                  "domain": [
                    0,
                    1
                  ],
                  "title": {
                    "text": "loss"
                  }
                }
              }
            }
          },
          "metadata": {},
          "output_type": "display_data"
        }
      ],
      "source": [
        "fig = px.line(y=losses, labels={'y':'loss'})\n",
        "fig.show()"
      ]
    },
    {
      "cell_type": "markdown",
      "metadata": {
        "id": "J7c_9F8u7stc"
      },
      "source": [
        "Let's now visually asses how we do on training data"
      ]
    },
    {
      "cell_type": "code",
      "execution_count": 9,
      "metadata": {
        "id": "GH34w_867std"
      },
      "outputs": [
        {
          "data": {
            "application/vnd.plotly.v1+json": {
              "config": {
                "plotlyServerURL": "https://plot.ly"
              },
              "data": [
                {
                  "hovertemplate": "x=%{x}<br>y=%{y}<extra></extra>",
                  "legendgroup": "",
                  "marker": {
                    "color": "#636efa",
                    "symbol": "circle"
                  },
                  "mode": "markers",
                  "name": "",
                  "orientation": "v",
                  "showlegend": false,
                  "type": "scatter",
                  "x": {
                    "bdata": "vHOtqnXI2T+uORZs3GnjP/j9SyCPm90/PHiFeRoC1D9gj9+vGx3OP8blQ3l1lOI/AQ5gbGP47D+YqifteLm2P1Q2skVcHMg/2NozPDfZxD9AkreAGwroP0nXEH5nyeU/hGRYhPG34j8tPAyXUCHtP+oli6c2Nek/IHvPuAOcrT8wAQcLqXfWP6he2n21KLQ/TUqq3pvA6z9pZ1hX7ljmP+C+vi1YTLc/bPhyPbTnxj9yyVCCJe7qPwpb/V0i9+Y/mu5404fT2z/0riF/npvZPzmUTA+LKeI/MQeBxL294j9c+dv1BwfaPw9TAzRhtuA/NJEGu0YFwD/o39Z7m7zgP5JaaI2g39I/6LovbVAKsT94wiXkBEW7P5hHXBY6E8E/+ODJWFNW6D8i/Dfm8nDnP3wodsigtd0/vI/ElmyH5D8c3nxiuHPvP9jia/ajScc/pCvfmFaD0D9Q+KmWMtrrP7FaSHhByek/iDS4FET2vj+Wyjmz2U/gP477RrqM1tU/LFsKqIfL7j+TCS7DycHrPw==",
                    "dtype": "f8"
                  },
                  "xaxis": "x",
                  "y": {
                    "bdata": "Kn2kSfyD5D+ONPSNY1fmP0Ydpq41ZOQ/cD15uBQ64z8VCutRm9DhP3PEYZpIxeQ/2lI2px8D6T9roXUYs0ThP0L7ULNO9OE/XnNQ6nl14j/DUzZ4cufnP3poXHJbGuY/UoukDnHG5T/GVHax0kznPyZX456utOc/3x/+cBBI4D+g91EtfjDjPygsAp+gJeA/LV2nC5FL6D/3VvpBLULmP1KGz7XFh+A/SOLTZkVE4T8ksUYiucTmP/43JJLIq+Y/iOB7fWpm5D/HTTNekaPjPzgLB63V1OU/f6b3dvH75D9tOQHp5s7jP4hX1S4JleQ/3C1QztsM4T+U2p27DODkP0v25Ikv/+E/hCEMulAL4T9SFIcZvlfgP1ElRBK+5eE/47oGpar55z+SGgR6RUXmP3k83quC0+Q/2e8hVA7s5j+p+AOA9ZPqP3/eDNw4rOE/K9/DlwZY4z/Spw+OC1npPzzJdbe7ruc/wmypL8eZ4D8ULR94PKrkPwzzJ2a0YuM/mHcRujY26T9v7jGLh0TnPw==",
                    "dtype": "f8"
                  },
                  "yaxis": "y"
                },
                {
                  "mode": "lines",
                  "name": "linear fit",
                  "type": "scatter",
                  "x": {
                    "bdata": "IHvPuAOcrT+mVlRRXjKxP7vvQMa6lrM/0IgtOxf7tT/mIRqwc1+4P/y6BiXQw7o/EVTzmSwovT8m7d8OiYy/Px5D5sFy+MA/qY9c/KAqwj803NI2z1zDP74oSXH9jsQ/SXW/qyvBxT/UwTXmWfPGP14OrCCIJcg/6VoiW7ZXyT90p5iV5InKP//zDtASvMs/ikCFCkHuzD8UjftEbyDOP5/ZcX+dUs8/FRP03GVC0D9aOS/6fNvQP6BfaheUdNE/5YWlNKsN0j8qrOBRwqbSP3DSG2/ZP9M/tfhWjPDY0z/6HpKpB3LUP0BFzcYeC9U/hWsI5DWk1T/LkUMBTT3WPxC4fh5k1tY/Vd65O3tv1z+bBPVYkgjYP+AqMHapodg/JlFrk8A62T9rd6aw19PZP7Cd4c3ubNo/9sMc6wUG2z876lcIHZ/bP4AQkyU0ONw/xjbOQkvR3D8LXQlgYmrdP1CDRH15A94/lql/mpCc3j/bz7q3pzXfPyH29dS+zt8/M44Y+eoz4D9WIbaHdoDgP3i0UxYCzeA/m0fxpI0Z4T++2o4zGWbhP+BtLMKksuE/AwHKUDD/4T8mlGffu0viP0gnBW5HmOI/a7qi/NLk4j+OTUCLXjHjP7Hg3RnqfeM/03N7qHXK4z/2Bhk3ARfkPxmatsWMY+Q/Oy1UVBiw5D9ewPHio/zkP4FTj3EvSeU/o+YsALuV5T/GecqORuLlP+kMaB3SLuY/C6AFrF175j8uM6M66cfmP1HGQMl0FOc/dFneVwBh5z+W7Hvmi63nP7l/GXUX+uc/3BK3A6NG6D/+pVSSLpPoPyE58iC63+g/RMyPr0Us6T9mXy0+0XjpP4nyysxcxek/rIVoW+gR6j/OGAbqc17qP/Gro3j/quo/FD9BB4v36j820t6VFkTrP1llfCSikOs/fPgZsy3d6z+ei7dBuSnsP8EeVdBEduw/5LHyXtDC7D8HRZDtWw/tPynYLXznW+0/TGvLCnOo7T9v/miZ/vTtP5GRBiiKQe4/tCSkthWO7j/Xt0FFodruP/lK39MsJ+8/HN58Yrhz7z8=",
                    "dtype": "f8"
                  },
                  "y": [
                    0.5173169137216767,
                    0.5200914905205705,
                    0.5228660673194642,
                    0.5256406441183579,
                    0.5284152209172517,
                    0.5311897977161454,
                    0.5339643745150391,
                    0.5367389513139328,
                    0.5395135281128266,
                    0.5422881049117203,
                    0.545062681710614,
                    0.5478372585095078,
                    0.5506118353084015,
                    0.5533864121072952,
                    0.556160988906189,
                    0.5589355657050827,
                    0.5617101425039764,
                    0.5644847193028703,
                    0.567259296101764,
                    0.5700338729006577,
                    0.5728084496995514,
                    0.5755830264984452,
                    0.5783576032973389,
                    0.5811321800962326,
                    0.5839067568951264,
                    0.5866813336940201,
                    0.5894559104929138,
                    0.5922304872918076,
                    0.5950050640907013,
                    0.597779640889595,
                    0.6005542176884888,
                    0.6033287944873825,
                    0.6061033712862762,
                    0.60887794808517,
                    0.6116525248840637,
                    0.6144271016829574,
                    0.6172016784818513,
                    0.619976255280745,
                    0.6227508320796387,
                    0.6255254088785325,
                    0.6282999856774262,
                    0.6310745624763199,
                    0.6338491392752136,
                    0.6366237160741073,
                    0.6393982928730011,
                    0.6421728696718948,
                    0.6449474464707885,
                    0.6477220232696823,
                    0.650496600068576,
                    0.6532711768674697,
                    0.6560457536663635,
                    0.6588203304652572,
                    0.6615949072641509,
                    0.6643694840630447,
                    0.6671440608619384,
                    0.6699186376608322,
                    0.672693214459726,
                    0.6754677912586197,
                    0.6782423680575134,
                    0.6810169448564072,
                    0.6837915216553009,
                    0.6865660984541946,
                    0.6893406752530884,
                    0.6921152520519821,
                    0.6948898288508758,
                    0.6976644056497696,
                    0.7004389824486632,
                    0.703213559247557,
                    0.7059881360464507,
                    0.7087627128453444,
                    0.7115372896442382,
                    0.7143118664431319,
                    0.7170864432420258,
                    0.7198610200409195,
                    0.7226355968398132,
                    0.7254101736387069,
                    0.7281847504376007,
                    0.7309593272364944,
                    0.7337339040353881,
                    0.7365084808342819,
                    0.7392830576331756,
                    0.7420576344320693,
                    0.7448322112309631,
                    0.7476067880298568,
                    0.7503813648287505,
                    0.7531559416276443,
                    0.755930518426538,
                    0.7587050952254317,
                    0.7614796720243255,
                    0.7642542488232191,
                    0.7670288256221129,
                    0.7698034024210068,
                    0.7725779792199003,
                    0.7753525560187942,
                    0.778127132817688,
                    0.7809017096165816,
                    0.7836762864154754,
                    0.7864508632143692,
                    0.7892254400132628,
                    0.7920000168121566
                  ]
                },
                {
                  "mode": "markers",
                  "name": "y without noise",
                  "type": "scatter",
                  "x": [
                    0.4028600851796076,
                    0.6066724883146912,
                    0.46261957315434143,
                    0.312628382371148,
                    0.23526331031382153,
                    0.5806224220715925,
                    0.9053208462432282,
                    0.08876758375087446,
                    0.18836549189693363,
                    0.16287889899805097,
                    0.7512338174825075,
                    0.6808354818556178,
                    0.5849540314549277,
                    0.9103167486335956,
                    0.7877457878432186,
                    0.057830921468612795,
                    0.3510534866036492,
                    0.07874616930564093,
                    0.8672618245057692,
                    0.6983558374370037,
                    0.09100867382835132,
                    0.1789460468334626,
                    0.841570620081525,
                    0.7176677547202825,
                    0.43478580142594014,
                    0.40012323775475456,
                    0.567571191674353,
                    0.5856617773026526,
                    0.40667914399809546,
                    0.522263146961082,
                    0.12516101963149995,
                    0.5230233591782936,
                    0.29489911851252615,
                    0.06656363168415746,
                    0.10652189798362055,
                    0.133399258535573,
                    0.7605377897407655,
                    0.7325376984080132,
                    0.464210696948278,
                    0.6415312714275312,
                    0.9828760074223655,
                    0.18193482906624214,
                    0.2580162518394735,
                    0.8703854506163768,
                    0.8058173512716477,
                    0.12094522004936625,
                    0.5097473621847992,
                    0.3412200755228064,
                    0.9623449594535933,
                    0.8674057781320691
                  ],
                  "y": [
                    0.6208580255538823,
                    0.6820017464944074,
                    0.6387858719463024,
                    0.5937885147113444,
                    0.5705789930941465,
                    0.6741867266214777,
                    0.7715962538729684,
                    0.5266302751252623,
                    0.5565096475690801,
                    0.5488636696994152,
                    0.7253701452447523,
                    0.7042506445566854,
                    0.6754862094364783,
                    0.7730950245900787,
                    0.7363237363529656,
                    0.5173492764405838,
                    0.6053160459810948,
                    0.5236238507916923,
                    0.7601785473517307,
                    0.7095067512311011,
                    0.5273026021485054,
                    0.5536838140500387,
                    0.7524711860244575,
                    0.7153003264160848,
                    0.630435740427782,
                    0.6200369713264263,
                    0.6702713575023059,
                    0.6756985331907958,
                    0.6220037431994286,
                    0.6566789440883246,
                    0.53754830588945,
                    0.6569070077534881,
                    0.5884697355537578,
                    0.5199690895052472,
                    0.5319565693950862,
                    0.5400197775606719,
                    0.7281613369222296,
                    0.7197613095224039,
                    0.6392632090844834,
                    0.6924593814282594,
                    0.7948628022267097,
                    0.5545804487198727,
                    0.5774048755518421,
                    0.7611156351849131,
                    0.7417452053814944,
                    0.5362835660148099,
                    0.6529242086554398,
                    0.6023660226568419,
                    0.7887034878360779,
                    0.7602217334396207
                  ]
                }
              ],
              "layout": {
                "legend": {
                  "tracegroupgap": 0
                },
                "margin": {
                  "t": 60
                },
                "template": {
                  "data": {
                    "bar": [
                      {
                        "error_x": {
                          "color": "#2a3f5f"
                        },
                        "error_y": {
                          "color": "#2a3f5f"
                        },
                        "marker": {
                          "line": {
                            "color": "#E5ECF6",
                            "width": 0.5
                          },
                          "pattern": {
                            "fillmode": "overlay",
                            "size": 10,
                            "solidity": 0.2
                          }
                        },
                        "type": "bar"
                      }
                    ],
                    "barpolar": [
                      {
                        "marker": {
                          "line": {
                            "color": "#E5ECF6",
                            "width": 0.5
                          },
                          "pattern": {
                            "fillmode": "overlay",
                            "size": 10,
                            "solidity": 0.2
                          }
                        },
                        "type": "barpolar"
                      }
                    ],
                    "carpet": [
                      {
                        "aaxis": {
                          "endlinecolor": "#2a3f5f",
                          "gridcolor": "white",
                          "linecolor": "white",
                          "minorgridcolor": "white",
                          "startlinecolor": "#2a3f5f"
                        },
                        "baxis": {
                          "endlinecolor": "#2a3f5f",
                          "gridcolor": "white",
                          "linecolor": "white",
                          "minorgridcolor": "white",
                          "startlinecolor": "#2a3f5f"
                        },
                        "type": "carpet"
                      }
                    ],
                    "choropleth": [
                      {
                        "colorbar": {
                          "outlinewidth": 0,
                          "ticks": ""
                        },
                        "type": "choropleth"
                      }
                    ],
                    "contour": [
                      {
                        "colorbar": {
                          "outlinewidth": 0,
                          "ticks": ""
                        },
                        "colorscale": [
                          [
                            0,
                            "#0d0887"
                          ],
                          [
                            0.1111111111111111,
                            "#46039f"
                          ],
                          [
                            0.2222222222222222,
                            "#7201a8"
                          ],
                          [
                            0.3333333333333333,
                            "#9c179e"
                          ],
                          [
                            0.4444444444444444,
                            "#bd3786"
                          ],
                          [
                            0.5555555555555556,
                            "#d8576b"
                          ],
                          [
                            0.6666666666666666,
                            "#ed7953"
                          ],
                          [
                            0.7777777777777778,
                            "#fb9f3a"
                          ],
                          [
                            0.8888888888888888,
                            "#fdca26"
                          ],
                          [
                            1,
                            "#f0f921"
                          ]
                        ],
                        "type": "contour"
                      }
                    ],
                    "contourcarpet": [
                      {
                        "colorbar": {
                          "outlinewidth": 0,
                          "ticks": ""
                        },
                        "type": "contourcarpet"
                      }
                    ],
                    "heatmap": [
                      {
                        "colorbar": {
                          "outlinewidth": 0,
                          "ticks": ""
                        },
                        "colorscale": [
                          [
                            0,
                            "#0d0887"
                          ],
                          [
                            0.1111111111111111,
                            "#46039f"
                          ],
                          [
                            0.2222222222222222,
                            "#7201a8"
                          ],
                          [
                            0.3333333333333333,
                            "#9c179e"
                          ],
                          [
                            0.4444444444444444,
                            "#bd3786"
                          ],
                          [
                            0.5555555555555556,
                            "#d8576b"
                          ],
                          [
                            0.6666666666666666,
                            "#ed7953"
                          ],
                          [
                            0.7777777777777778,
                            "#fb9f3a"
                          ],
                          [
                            0.8888888888888888,
                            "#fdca26"
                          ],
                          [
                            1,
                            "#f0f921"
                          ]
                        ],
                        "type": "heatmap"
                      }
                    ],
                    "histogram": [
                      {
                        "marker": {
                          "pattern": {
                            "fillmode": "overlay",
                            "size": 10,
                            "solidity": 0.2
                          }
                        },
                        "type": "histogram"
                      }
                    ],
                    "histogram2d": [
                      {
                        "colorbar": {
                          "outlinewidth": 0,
                          "ticks": ""
                        },
                        "colorscale": [
                          [
                            0,
                            "#0d0887"
                          ],
                          [
                            0.1111111111111111,
                            "#46039f"
                          ],
                          [
                            0.2222222222222222,
                            "#7201a8"
                          ],
                          [
                            0.3333333333333333,
                            "#9c179e"
                          ],
                          [
                            0.4444444444444444,
                            "#bd3786"
                          ],
                          [
                            0.5555555555555556,
                            "#d8576b"
                          ],
                          [
                            0.6666666666666666,
                            "#ed7953"
                          ],
                          [
                            0.7777777777777778,
                            "#fb9f3a"
                          ],
                          [
                            0.8888888888888888,
                            "#fdca26"
                          ],
                          [
                            1,
                            "#f0f921"
                          ]
                        ],
                        "type": "histogram2d"
                      }
                    ],
                    "histogram2dcontour": [
                      {
                        "colorbar": {
                          "outlinewidth": 0,
                          "ticks": ""
                        },
                        "colorscale": [
                          [
                            0,
                            "#0d0887"
                          ],
                          [
                            0.1111111111111111,
                            "#46039f"
                          ],
                          [
                            0.2222222222222222,
                            "#7201a8"
                          ],
                          [
                            0.3333333333333333,
                            "#9c179e"
                          ],
                          [
                            0.4444444444444444,
                            "#bd3786"
                          ],
                          [
                            0.5555555555555556,
                            "#d8576b"
                          ],
                          [
                            0.6666666666666666,
                            "#ed7953"
                          ],
                          [
                            0.7777777777777778,
                            "#fb9f3a"
                          ],
                          [
                            0.8888888888888888,
                            "#fdca26"
                          ],
                          [
                            1,
                            "#f0f921"
                          ]
                        ],
                        "type": "histogram2dcontour"
                      }
                    ],
                    "mesh3d": [
                      {
                        "colorbar": {
                          "outlinewidth": 0,
                          "ticks": ""
                        },
                        "type": "mesh3d"
                      }
                    ],
                    "parcoords": [
                      {
                        "line": {
                          "colorbar": {
                            "outlinewidth": 0,
                            "ticks": ""
                          }
                        },
                        "type": "parcoords"
                      }
                    ],
                    "pie": [
                      {
                        "automargin": true,
                        "type": "pie"
                      }
                    ],
                    "scatter": [
                      {
                        "fillpattern": {
                          "fillmode": "overlay",
                          "size": 10,
                          "solidity": 0.2
                        },
                        "type": "scatter"
                      }
                    ],
                    "scatter3d": [
                      {
                        "line": {
                          "colorbar": {
                            "outlinewidth": 0,
                            "ticks": ""
                          }
                        },
                        "marker": {
                          "colorbar": {
                            "outlinewidth": 0,
                            "ticks": ""
                          }
                        },
                        "type": "scatter3d"
                      }
                    ],
                    "scattercarpet": [
                      {
                        "marker": {
                          "colorbar": {
                            "outlinewidth": 0,
                            "ticks": ""
                          }
                        },
                        "type": "scattercarpet"
                      }
                    ],
                    "scattergeo": [
                      {
                        "marker": {
                          "colorbar": {
                            "outlinewidth": 0,
                            "ticks": ""
                          }
                        },
                        "type": "scattergeo"
                      }
                    ],
                    "scattergl": [
                      {
                        "marker": {
                          "colorbar": {
                            "outlinewidth": 0,
                            "ticks": ""
                          }
                        },
                        "type": "scattergl"
                      }
                    ],
                    "scattermap": [
                      {
                        "marker": {
                          "colorbar": {
                            "outlinewidth": 0,
                            "ticks": ""
                          }
                        },
                        "type": "scattermap"
                      }
                    ],
                    "scattermapbox": [
                      {
                        "marker": {
                          "colorbar": {
                            "outlinewidth": 0,
                            "ticks": ""
                          }
                        },
                        "type": "scattermapbox"
                      }
                    ],
                    "scatterpolar": [
                      {
                        "marker": {
                          "colorbar": {
                            "outlinewidth": 0,
                            "ticks": ""
                          }
                        },
                        "type": "scatterpolar"
                      }
                    ],
                    "scatterpolargl": [
                      {
                        "marker": {
                          "colorbar": {
                            "outlinewidth": 0,
                            "ticks": ""
                          }
                        },
                        "type": "scatterpolargl"
                      }
                    ],
                    "scatterternary": [
                      {
                        "marker": {
                          "colorbar": {
                            "outlinewidth": 0,
                            "ticks": ""
                          }
                        },
                        "type": "scatterternary"
                      }
                    ],
                    "surface": [
                      {
                        "colorbar": {
                          "outlinewidth": 0,
                          "ticks": ""
                        },
                        "colorscale": [
                          [
                            0,
                            "#0d0887"
                          ],
                          [
                            0.1111111111111111,
                            "#46039f"
                          ],
                          [
                            0.2222222222222222,
                            "#7201a8"
                          ],
                          [
                            0.3333333333333333,
                            "#9c179e"
                          ],
                          [
                            0.4444444444444444,
                            "#bd3786"
                          ],
                          [
                            0.5555555555555556,
                            "#d8576b"
                          ],
                          [
                            0.6666666666666666,
                            "#ed7953"
                          ],
                          [
                            0.7777777777777778,
                            "#fb9f3a"
                          ],
                          [
                            0.8888888888888888,
                            "#fdca26"
                          ],
                          [
                            1,
                            "#f0f921"
                          ]
                        ],
                        "type": "surface"
                      }
                    ],
                    "table": [
                      {
                        "cells": {
                          "fill": {
                            "color": "#EBF0F8"
                          },
                          "line": {
                            "color": "white"
                          }
                        },
                        "header": {
                          "fill": {
                            "color": "#C8D4E3"
                          },
                          "line": {
                            "color": "white"
                          }
                        },
                        "type": "table"
                      }
                    ]
                  },
                  "layout": {
                    "annotationdefaults": {
                      "arrowcolor": "#2a3f5f",
                      "arrowhead": 0,
                      "arrowwidth": 1
                    },
                    "autotypenumbers": "strict",
                    "coloraxis": {
                      "colorbar": {
                        "outlinewidth": 0,
                        "ticks": ""
                      }
                    },
                    "colorscale": {
                      "diverging": [
                        [
                          0,
                          "#8e0152"
                        ],
                        [
                          0.1,
                          "#c51b7d"
                        ],
                        [
                          0.2,
                          "#de77ae"
                        ],
                        [
                          0.3,
                          "#f1b6da"
                        ],
                        [
                          0.4,
                          "#fde0ef"
                        ],
                        [
                          0.5,
                          "#f7f7f7"
                        ],
                        [
                          0.6,
                          "#e6f5d0"
                        ],
                        [
                          0.7,
                          "#b8e186"
                        ],
                        [
                          0.8,
                          "#7fbc41"
                        ],
                        [
                          0.9,
                          "#4d9221"
                        ],
                        [
                          1,
                          "#276419"
                        ]
                      ],
                      "sequential": [
                        [
                          0,
                          "#0d0887"
                        ],
                        [
                          0.1111111111111111,
                          "#46039f"
                        ],
                        [
                          0.2222222222222222,
                          "#7201a8"
                        ],
                        [
                          0.3333333333333333,
                          "#9c179e"
                        ],
                        [
                          0.4444444444444444,
                          "#bd3786"
                        ],
                        [
                          0.5555555555555556,
                          "#d8576b"
                        ],
                        [
                          0.6666666666666666,
                          "#ed7953"
                        ],
                        [
                          0.7777777777777778,
                          "#fb9f3a"
                        ],
                        [
                          0.8888888888888888,
                          "#fdca26"
                        ],
                        [
                          1,
                          "#f0f921"
                        ]
                      ],
                      "sequentialminus": [
                        [
                          0,
                          "#0d0887"
                        ],
                        [
                          0.1111111111111111,
                          "#46039f"
                        ],
                        [
                          0.2222222222222222,
                          "#7201a8"
                        ],
                        [
                          0.3333333333333333,
                          "#9c179e"
                        ],
                        [
                          0.4444444444444444,
                          "#bd3786"
                        ],
                        [
                          0.5555555555555556,
                          "#d8576b"
                        ],
                        [
                          0.6666666666666666,
                          "#ed7953"
                        ],
                        [
                          0.7777777777777778,
                          "#fb9f3a"
                        ],
                        [
                          0.8888888888888888,
                          "#fdca26"
                        ],
                        [
                          1,
                          "#f0f921"
                        ]
                      ]
                    },
                    "colorway": [
                      "#636efa",
                      "#EF553B",
                      "#00cc96",
                      "#ab63fa",
                      "#FFA15A",
                      "#19d3f3",
                      "#FF6692",
                      "#B6E880",
                      "#FF97FF",
                      "#FECB52"
                    ],
                    "font": {
                      "color": "#2a3f5f"
                    },
                    "geo": {
                      "bgcolor": "white",
                      "lakecolor": "white",
                      "landcolor": "#E5ECF6",
                      "showlakes": true,
                      "showland": true,
                      "subunitcolor": "white"
                    },
                    "hoverlabel": {
                      "align": "left"
                    },
                    "hovermode": "closest",
                    "mapbox": {
                      "style": "light"
                    },
                    "paper_bgcolor": "white",
                    "plot_bgcolor": "#E5ECF6",
                    "polar": {
                      "angularaxis": {
                        "gridcolor": "white",
                        "linecolor": "white",
                        "ticks": ""
                      },
                      "bgcolor": "#E5ECF6",
                      "radialaxis": {
                        "gridcolor": "white",
                        "linecolor": "white",
                        "ticks": ""
                      }
                    },
                    "scene": {
                      "xaxis": {
                        "backgroundcolor": "#E5ECF6",
                        "gridcolor": "white",
                        "gridwidth": 2,
                        "linecolor": "white",
                        "showbackground": true,
                        "ticks": "",
                        "zerolinecolor": "white"
                      },
                      "yaxis": {
                        "backgroundcolor": "#E5ECF6",
                        "gridcolor": "white",
                        "gridwidth": 2,
                        "linecolor": "white",
                        "showbackground": true,
                        "ticks": "",
                        "zerolinecolor": "white"
                      },
                      "zaxis": {
                        "backgroundcolor": "#E5ECF6",
                        "gridcolor": "white",
                        "gridwidth": 2,
                        "linecolor": "white",
                        "showbackground": true,
                        "ticks": "",
                        "zerolinecolor": "white"
                      }
                    },
                    "shapedefaults": {
                      "line": {
                        "color": "#2a3f5f"
                      }
                    },
                    "ternary": {
                      "aaxis": {
                        "gridcolor": "white",
                        "linecolor": "white",
                        "ticks": ""
                      },
                      "baxis": {
                        "gridcolor": "white",
                        "linecolor": "white",
                        "ticks": ""
                      },
                      "bgcolor": "#E5ECF6",
                      "caxis": {
                        "gridcolor": "white",
                        "linecolor": "white",
                        "ticks": ""
                      }
                    },
                    "title": {
                      "x": 0.05
                    },
                    "xaxis": {
                      "automargin": true,
                      "gridcolor": "white",
                      "linecolor": "white",
                      "ticks": "",
                      "title": {
                        "standoff": 15
                      },
                      "zerolinecolor": "white",
                      "zerolinewidth": 2
                    },
                    "yaxis": {
                      "automargin": true,
                      "gridcolor": "white",
                      "linecolor": "white",
                      "ticks": "",
                      "title": {
                        "standoff": 15
                      },
                      "zerolinecolor": "white",
                      "zerolinewidth": 2
                    }
                  }
                },
                "xaxis": {
                  "anchor": "y",
                  "domain": [
                    0,
                    1
                  ],
                  "title": {
                    "text": "x"
                  }
                },
                "yaxis": {
                  "anchor": "x",
                  "domain": [
                    0,
                    1
                  ],
                  "title": {
                    "text": "y"
                  }
                }
              }
            }
          },
          "metadata": {},
          "output_type": "display_data"
        }
      ],
      "source": [
        "fig = go.Figure()\n",
        "\n",
        "fig = px.scatter(x=xs, y=ys)\n",
        "dense_x = np.linspace(np.min(xs), np.max(xs), 100)\n",
        "fig.add_trace(go.Scatter(x=dense_x, y=predict(a, b, dense_x), name='linear fit', mode='lines'))\n",
        "fig.add_trace(go.Scatter(x=xs, y=ts, name='y without noise', mode='markers'))\n",
        "\n",
        "fig.show()"
      ]
    },
    {
      "cell_type": "markdown",
      "metadata": {
        "id": "dlW25Mnq7sth"
      },
      "source": [
        "Let's check our implementation vs. the one in sklearn and numpy.\n"
      ]
    },
    {
      "cell_type": "code",
      "execution_count": 14,
      "metadata": {
        "id": "0r6GSafQ7sti"
      },
      "outputs": [
        {
          "name": "stdout",
          "output_type": "stream",
          "text": [
            "Loss: 0.00033240 a:  0.29924, b:  0.49896\n"
          ]
        },
        {
          "name": "stderr",
          "output_type": "stream",
          "text": [
            "/tmp/ipykernel_121145/2833494271.py:8: DeprecationWarning:\n",
            "\n",
            "Conversion of an array with ndim > 0 to a scalar is deprecated, and will error in future. Ensure you extract a single element from your array before performing this operation. (Deprecated NumPy 1.25.)\n",
            "\n"
          ]
        }
      ],
      "source": [
        "from sklearn.linear_model import LinearRegression\n",
        "import numpy as np\n",
        "\n",
        "X = np.array(xs).reshape((len(xs), 1))\n",
        "regr = LinearRegression()\n",
        "regr.fit(X, ys) # training\n",
        "\n",
        "sk_a = float(regr.coef_)\n",
        "sk_b = regr.intercept_\n",
        "sk_loss = mse_loss(ys, regr.predict(X))\n",
        "\n",
        "print(f'Loss: {sk_loss:8.8f} a: {sk_a:8.5f}, b: {sk_b:8.5f}')"
      ]
    },
    {
      "cell_type": "code",
      "execution_count": 11,
      "metadata": {
        "id": "LYTJMBV2eybu"
      },
      "outputs": [
        {
          "name": "stdout",
          "output_type": "stream",
          "text": [
            "[0.29923879 0.4989555 ]\n",
            " \n",
            "0.2992 x + 0.499\n"
          ]
        }
      ],
      "source": [
        "z = np.polyfit(x=xs, y=ys, deg=1)\n",
        "print(z)\n",
        "f = np.poly1d(z)\n",
        "print(f)"
      ]
    },
    {
      "cell_type": "markdown",
      "metadata": {
        "id": "8GsLRyMxPIoU"
      },
      "source": [
        "<center><img src='https://drive.google.com/uc?id=1BXZ0u3562N_MqCLcekI-Ens77Kk4LpPm'></center>"
      ]
    }
  ],
  "metadata": {
    "colab": {
      "provenance": []
    },
    "kernelspec": {
      "display_name": ".venv310",
      "language": "python",
      "name": "python3"
    },
    "language_info": {
      "codemirror_mode": {
        "name": "ipython",
        "version": 3
      },
      "file_extension": ".py",
      "mimetype": "text/x-python",
      "name": "python",
      "nbconvert_exporter": "python",
      "pygments_lexer": "ipython3",
      "version": "3.10.19"
    }
  },
  "nbformat": 4,
  "nbformat_minor": 0
}
